{
 "cells": [
  {
   "cell_type": "markdown",
   "id": "fd8028f4-4a52-4032-8369-d1af814286ff",
   "metadata": {},
   "source": [
    "Q1. Create a Pandas Series that contains the following data: 4, 8, 15, 16, 23, and 42. Then, print the series."
   ]
  },
  {
   "cell_type": "code",
   "execution_count": 5,
   "id": "f619c016-dc83-48e5-b99e-825803cdccf7",
   "metadata": {},
   "outputs": [],
   "source": [
    "import pandas as pd"
   ]
  },
  {
   "cell_type": "code",
   "execution_count": 6,
   "id": "197f6855-1d5f-4544-8491-f49fb1e30139",
   "metadata": {},
   "outputs": [],
   "source": [
    " s1 = pd.Series([4,8,15,16,23,42])"
   ]
  },
  {
   "cell_type": "code",
   "execution_count": 7,
   "id": "82821b58-7104-4deb-9204-19ed2192968f",
   "metadata": {},
   "outputs": [
    {
     "name": "stdout",
     "output_type": "stream",
     "text": [
      "0     4\n",
      "1     8\n",
      "2    15\n",
      "3    16\n",
      "4    23\n",
      "5    42\n",
      "dtype: int64\n"
     ]
    }
   ],
   "source": [
    "print(s1)"
   ]
  },
  {
   "cell_type": "markdown",
   "id": "2d128a5c-9c8c-47e0-99b4-b2333c120698",
   "metadata": {},
   "source": [
    "Q2. Create a variable of list type containing 10 elements in it, and apply pandas.Series function on the variable print it."
   ]
  },
  {
   "cell_type": "code",
   "execution_count": 8,
   "id": "8441c9c4-2dc4-4eac-a433-3c8a1c01653c",
   "metadata": {},
   "outputs": [],
   "source": [
    "#creating the list has 10 elements\n",
    "l1 =[i for i in range(1,11)]"
   ]
  },
  {
   "cell_type": "code",
   "execution_count": 9,
   "id": "b0977459-d3b1-4c8d-a6e3-c654f44501f6",
   "metadata": {},
   "outputs": [],
   "source": [
    "#creating the pd series ser_list\n",
    "series = pd.Series(l1)"
   ]
  },
  {
   "cell_type": "code",
   "execution_count": 10,
   "id": "607bfce2-b1bd-4ff9-bb24-d024e601a72b",
   "metadata": {},
   "outputs": [
    {
     "data": {
      "text/plain": [
       "0     1\n",
       "1     2\n",
       "2     3\n",
       "3     4\n",
       "4     5\n",
       "5     6\n",
       "6     7\n",
       "7     8\n",
       "8     9\n",
       "9    10\n",
       "dtype: int64"
      ]
     },
     "execution_count": 10,
     "metadata": {},
     "output_type": "execute_result"
    }
   ],
   "source": [
    "series"
   ]
  },
  {
   "cell_type": "markdown",
   "id": "6ba308d4-5de6-47d7-95a8-cd29a9c5be31",
   "metadata": {},
   "source": [
    "Q3. Create a Pandas DataFrame that contains the following data:\n",
    "image.png"
   ]
  },
  {
   "cell_type": "markdown",
   "id": "e38781c3-2bd9-4bfc-88c6-0eb70e633400",
   "metadata": {},
   "source": [
    "Name:\"Alice\", \"Bob\", \"Claire,Age: 25,30,27,\n",
    "    Gender: \"Female\", \"Male\", \"Female\""
   ]
  },
  {
   "cell_type": "code",
   "execution_count": 11,
   "id": "be4fc133-22c1-4b22-8782-d371bc1bcf6e",
   "metadata": {},
   "outputs": [],
   "source": [
    "df = pd.DataFrame({\"Name\":[\"Alice\", \"Bob\", \"Claire\"],\n",
    "    \"Age\": [25,30,27],\n",
    "    \"Gender\": [\"Female\", \"Male\", \"Female\"]})"
   ]
  },
  {
   "cell_type": "code",
   "execution_count": 12,
   "id": "2fb63ce6-12d4-440c-9a72-98276a315a29",
   "metadata": {},
   "outputs": [
    {
     "data": {
      "text/html": [
       "<div>\n",
       "<style scoped>\n",
       "    .dataframe tbody tr th:only-of-type {\n",
       "        vertical-align: middle;\n",
       "    }\n",
       "\n",
       "    .dataframe tbody tr th {\n",
       "        vertical-align: top;\n",
       "    }\n",
       "\n",
       "    .dataframe thead th {\n",
       "        text-align: right;\n",
       "    }\n",
       "</style>\n",
       "<table border=\"1\" class=\"dataframe\">\n",
       "  <thead>\n",
       "    <tr style=\"text-align: right;\">\n",
       "      <th></th>\n",
       "      <th>Name</th>\n",
       "      <th>Age</th>\n",
       "      <th>Gender</th>\n",
       "    </tr>\n",
       "  </thead>\n",
       "  <tbody>\n",
       "    <tr>\n",
       "      <th>0</th>\n",
       "      <td>Alice</td>\n",
       "      <td>25</td>\n",
       "      <td>Female</td>\n",
       "    </tr>\n",
       "    <tr>\n",
       "      <th>1</th>\n",
       "      <td>Bob</td>\n",
       "      <td>30</td>\n",
       "      <td>Male</td>\n",
       "    </tr>\n",
       "    <tr>\n",
       "      <th>2</th>\n",
       "      <td>Claire</td>\n",
       "      <td>27</td>\n",
       "      <td>Female</td>\n",
       "    </tr>\n",
       "  </tbody>\n",
       "</table>\n",
       "</div>"
      ],
      "text/plain": [
       "     Name  Age  Gender\n",
       "0   Alice   25  Female\n",
       "1     Bob   30    Male\n",
       "2  Claire   27  Female"
      ]
     },
     "execution_count": 12,
     "metadata": {},
     "output_type": "execute_result"
    }
   ],
   "source": [
    "df"
   ]
  },
  {
   "cell_type": "markdown",
   "id": "1133c8ea-343b-4eb3-8b0b-66771aa8f67d",
   "metadata": {},
   "source": [
    "Q4. What is ‘DataFrame’ in pandas and how is it different from pandas.series? Explain with an example."
   ]
  },
  {
   "cell_type": "raw",
   "id": "d5847cf6-174c-4eea-9107-d3da73051a97",
   "metadata": {},
   "source": [
    "\n",
    "DataFrame:\n",
    "Dataframe is a table kind of structure which stores data in tabuler manner. It is a collection of series"
   ]
  },
  {
   "cell_type": "raw",
   "id": "c69c6359-adce-4852-80c8-4d6e05bf072d",
   "metadata": {},
   "source": [
    "Diffrence b/w DataFrame and Series\n",
    "The Series is the data structure for a single column of a DataFrame\n",
    "DataFrame is actually stored in memory as a collection of Series."
   ]
  },
  {
   "cell_type": "markdown",
   "id": "d2b09a2e-5ffb-4067-814e-9347dc6f7e30",
   "metadata": {},
   "source": [
    "Q5. What are some common functions you can use to manipulate data in a Pandas DataFrame? Can you give an example of when you might use one of these functions?"
   ]
  },
  {
   "cell_type": "raw",
   "id": "103351bf-d113-48b9-9850-355ef4207207",
   "metadata": {},
   "source": [
    "Data manupulation in pandas can be done through multiple functionalities\n",
    "\n",
    "addition (+) or substraction (-) or multiplication (*) or division (/) of 2 or more cols\n",
    "\n",
    "getting average through -- df.col_name.mean()\n",
    "\n",
    "getting median through -- df.col_name.median()\n",
    "\n",
    "df.col_name.mode() to get the most frequesnt elements\n",
    "\n",
    "df.col_name.quantile(.90) to get the quantile\n",
    "\n",
    "df.describe() to get mean, media, std, 25%, 50% 75% min and max data\n",
    "\n",
    "df.shape\n",
    "\n",
    "df.info()\n",
    "\n",
    "df.dtype\n",
    "\n",
    "df.drop_duplicates()\n",
    "\n",
    "df.fillna(0)"
   ]
  },
  {
   "cell_type": "markdown",
   "id": "99b1ad88-8fa9-4755-8338-468f64b88800",
   "metadata": {},
   "source": [
    "etc"
   ]
  },
  {
   "cell_type": "code",
   "execution_count": 13,
   "id": "6792d815-531c-4834-8da6-d37c1c9e9c6c",
   "metadata": {},
   "outputs": [
    {
     "data": {
      "text/html": [
       "<div>\n",
       "<style scoped>\n",
       "    .dataframe tbody tr th:only-of-type {\n",
       "        vertical-align: middle;\n",
       "    }\n",
       "\n",
       "    .dataframe tbody tr th {\n",
       "        vertical-align: top;\n",
       "    }\n",
       "\n",
       "    .dataframe thead th {\n",
       "        text-align: right;\n",
       "    }\n",
       "</style>\n",
       "<table border=\"1\" class=\"dataframe\">\n",
       "  <thead>\n",
       "    <tr style=\"text-align: right;\">\n",
       "      <th></th>\n",
       "      <th>name</th>\n",
       "      <th>dob</th>\n",
       "      <th>purchase_date</th>\n",
       "      <th>Age</th>\n",
       "    </tr>\n",
       "  </thead>\n",
       "  <tbody>\n",
       "    <tr>\n",
       "      <th>0</th>\n",
       "      <td>ram</td>\n",
       "      <td>1990</td>\n",
       "      <td>2023</td>\n",
       "      <td>33.0</td>\n",
       "    </tr>\n",
       "    <tr>\n",
       "      <th>1</th>\n",
       "      <td>shyam</td>\n",
       "      <td>2001</td>\n",
       "      <td>2023</td>\n",
       "      <td>22.0</td>\n",
       "    </tr>\n",
       "    <tr>\n",
       "      <th>2</th>\n",
       "      <td>mohan</td>\n",
       "      <td>2014</td>\n",
       "      <td>2023</td>\n",
       "      <td>9.0</td>\n",
       "    </tr>\n",
       "  </tbody>\n",
       "</table>\n",
       "</div>"
      ],
      "text/plain": [
       "    name   dob purchase_date   Age\n",
       "0    ram  1990          2023  33.0\n",
       "1  shyam  2001          2023  22.0\n",
       "2  mohan  2014          2023   9.0"
      ]
     },
     "execution_count": 13,
     "metadata": {},
     "output_type": "execute_result"
    }
   ],
   "source": [
    "#example: \n",
    "# suppose we have a data frame having dob and shopping date of product through this we can find out the age of the person\n",
    "\n",
    "dx={\"name\":[\"ram\", 'shyam', 'mohan'], \"dob\":[\"11-02-1990\", \"12-3-2001\", \"04-04-2014\"],\\\n",
    " \"purchase_date\": [\"11-01-2023\", \"12-05-2023\", \"04-01-2023\"]}\n",
    "dx=pd.DataFrame(dx) #creation of the dataframe\n",
    "\n",
    "\n",
    "dx.purchase_date=pd.to_datetime(dx[\"purchase_date\"]).dt.strftime(\"%Y\") # getting the years from the columns\n",
    "dx.dob=pd.to_datetime(dx[\"dob\"]).dt.strftime(\"%Y\")\n",
    "dx['Age']=dx[\"purchase_date\"].astype('float')- dx[\"dob\"].astype('float') # getting the age and save the age in new col age\n",
    "# print the dx\n",
    "dx"
   ]
  },
  {
   "cell_type": "markdown",
   "id": "a3e2bdc3-f746-46cd-9572-821df566bc9d",
   "metadata": {},
   "source": [
    "Q6. Which of the following is mutable in nature Series, DataFrame, Panel?"
   ]
  },
  {
   "cell_type": "raw",
   "id": "9931a07b-a5d7-4f0e-860a-4d28c1a1944b",
   "metadata": {},
   "source": [
    "All pandas data structures are value-mutable (the values they contain can be altered) but not always size-mutable.\n",
    "The length of a Series cannot be changed, but, for example, columns can be inserted into a DataFrame.\n",
    "However, the vast majority of methods produce new objects and leave the input data untouched."
   ]
  },
  {
   "cell_type": "markdown",
   "id": "54d324e4-05da-4ccd-bc51-1aaee983bd0d",
   "metadata": {},
   "source": [
    "Q7. Create a DataFrame using multiple Series. Explain with an example."
   ]
  },
  {
   "cell_type": "code",
   "execution_count": 14,
   "id": "7714a559-7df2-49ae-9816-c662b37ad1a4",
   "metadata": {},
   "outputs": [
    {
     "data": {
      "text/html": [
       "<div>\n",
       "<style scoped>\n",
       "    .dataframe tbody tr th:only-of-type {\n",
       "        vertical-align: middle;\n",
       "    }\n",
       "\n",
       "    .dataframe tbody tr th {\n",
       "        vertical-align: top;\n",
       "    }\n",
       "\n",
       "    .dataframe thead th {\n",
       "        text-align: right;\n",
       "    }\n",
       "</style>\n",
       "<table border=\"1\" class=\"dataframe\">\n",
       "  <thead>\n",
       "    <tr style=\"text-align: right;\">\n",
       "      <th></th>\n",
       "      <th>name_of_course</th>\n",
       "      <th>cost</th>\n",
       "      <th>discount</th>\n",
       "    </tr>\n",
       "  </thead>\n",
       "  <tbody>\n",
       "    <tr>\n",
       "      <th>0</th>\n",
       "      <td>Spark</td>\n",
       "      <td>22000</td>\n",
       "      <td>1000</td>\n",
       "    </tr>\n",
       "    <tr>\n",
       "      <th>1</th>\n",
       "      <td>PySpark</td>\n",
       "      <td>25000</td>\n",
       "      <td>2300</td>\n",
       "    </tr>\n",
       "    <tr>\n",
       "      <th>2</th>\n",
       "      <td>Hadoop</td>\n",
       "      <td>23000</td>\n",
       "      <td>1000</td>\n",
       "    </tr>\n",
       "  </tbody>\n",
       "</table>\n",
       "</div>"
      ],
      "text/plain": [
       "  name_of_course   cost  discount\n",
       "0          Spark  22000      1000\n",
       "1        PySpark  25000      2300\n",
       "2         Hadoop  23000      1000"
      ]
     },
     "execution_count": 14,
     "metadata": {},
     "output_type": "execute_result"
    }
   ],
   "source": [
    "courses = pd.Series([\"Spark\",\"PySpark\",\"Hadoop\"]) #series1\n",
    "fees = pd.Series([22000,25000,23000]) # series 2\n",
    "discount  = pd.Series([1000,2300,1000]) #series 3\n",
    "\n",
    "\n",
    "# combine multiple series.\n",
    "df1=pd.concat([courses,fees,discount],axis=1, ) #concat\n",
    "df1.columns=[\"name_of_course\", \"cost\", \"discount\"] #rename the columns\n",
    "df1"
   ]
  },
  {
   "cell_type": "code",
   "execution_count": null,
   "id": "2bf6f599-79dc-4871-ac26-969887ac7381",
   "metadata": {},
   "outputs": [],
   "source": []
  },
  {
   "cell_type": "code",
   "execution_count": null,
   "id": "aa3cbe41-1085-4545-b96c-e390a9ec17f5",
   "metadata": {},
   "outputs": [],
   "source": []
  },
  {
   "cell_type": "code",
   "execution_count": null,
   "id": "b6175649-fc29-4882-8af6-c059d5adf642",
   "metadata": {},
   "outputs": [],
   "source": []
  },
  {
   "cell_type": "code",
   "execution_count": null,
   "id": "5a974758-1a1a-46b9-b68a-10045ab59fae",
   "metadata": {},
   "outputs": [],
   "source": []
  },
  {
   "cell_type": "code",
   "execution_count": null,
   "id": "ced8c921-34e4-4166-a991-3e767e04a32a",
   "metadata": {},
   "outputs": [],
   "source": []
  },
  {
   "cell_type": "code",
   "execution_count": null,
   "id": "1cb10ea7-187a-4296-8685-eaa6366be07c",
   "metadata": {},
   "outputs": [],
   "source": []
  },
  {
   "cell_type": "code",
   "execution_count": null,
   "id": "42476bff-8b1f-43a8-b103-56e2b34f989b",
   "metadata": {},
   "outputs": [],
   "source": []
  },
  {
   "cell_type": "code",
   "execution_count": null,
   "id": "9686cbf4-b90b-4892-8afa-6e536e38c769",
   "metadata": {},
   "outputs": [],
   "source": []
  },
  {
   "cell_type": "code",
   "execution_count": null,
   "id": "9feb2277-71ce-47f1-b199-4cd7fc578e4d",
   "metadata": {},
   "outputs": [],
   "source": []
  },
  {
   "cell_type": "code",
   "execution_count": null,
   "id": "accebe15-4438-4d61-9554-833e92eae5c9",
   "metadata": {},
   "outputs": [],
   "source": []
  }
 ],
 "metadata": {
  "kernelspec": {
   "display_name": "Python 3 (ipykernel)",
   "language": "python",
   "name": "python3"
  },
  "language_info": {
   "codemirror_mode": {
    "name": "ipython",
    "version": 3
   },
   "file_extension": ".py",
   "mimetype": "text/x-python",
   "name": "python",
   "nbconvert_exporter": "python",
   "pygments_lexer": "ipython3",
   "version": "3.10.8"
  }
 },
 "nbformat": 4,
 "nbformat_minor": 5
}
